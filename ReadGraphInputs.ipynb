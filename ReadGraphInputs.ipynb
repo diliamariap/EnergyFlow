{
 "cells": [
  {
   "cell_type": "markdown",
   "id": "089dff7a-22d3-478f-ad44-3d15b077d101",
   "metadata": {
    "tags": []
   },
   "source": [
    "# Read Graph inputs"
   ]
  },
  {
   "cell_type": "markdown",
   "id": "fd08bf58-143d-409c-ad7f-67b22810cf2f",
   "metadata": {},
   "source": [
    "Path: /fast_scratch/atlas_images/v01-45"
   ]
  },
  {
   "cell_type": "code",
   "execution_count": 1,
   "id": "044196ba-b937-4271-b830-5234c570335b",
   "metadata": {},
   "outputs": [],
   "source": [
    "import numpy as np\n",
    "import uproot"
   ]
  },
  {
   "cell_type": "code",
   "execution_count": 2,
   "id": "47965e69-4815-4c6d-8749-19dcdcae848a",
   "metadata": {},
   "outputs": [],
   "source": [
    "from tqdm import tqdm"
   ]
  },
  {
   "cell_type": "code",
   "execution_count": 3,
   "id": "84d00c61-9bf2-478c-9fe0-059c06dae0f2",
   "metadata": {},
   "outputs": [
    {
     "name": "stdout",
     "output_type": "stream",
     "text": [
      ".   .git\t\tREADME.md\t       efn_Dilia.ipynb\n",
      "..  .ipynb_checkpoints\tReadGraphInputs.ipynb\n"
     ]
    }
   ],
   "source": [
    "!ls -a"
   ]
  },
  {
   "cell_type": "code",
   "execution_count": 4,
   "id": "80e0acc0-5d24-49aa-a032-207e03d36d72",
   "metadata": {},
   "outputs": [],
   "source": [
    "# Just read /fast_scratch/atlas_images/v01-45/delta/user.angerami.24409108.OutputStream._000257.root"
   ]
  },
  {
   "cell_type": "code",
   "execution_count": 5,
   "id": "912d64ec-f53c-4bc8-a715-b49fb07ddeb8",
   "metadata": {},
   "outputs": [],
   "source": [
    "filename = '/fast_scratch/atlas_images/v01-45/delta/user.angerami.24409108.OutputStream._000257.root'\n",
    "f = uproot.open(filename)"
   ]
  },
  {
   "cell_type": "code",
   "execution_count": 6,
   "id": "dd5e59ce-ead6-472f-8678-77f85b5b8c1d",
   "metadata": {},
   "outputs": [
    {
     "data": {
      "text/plain": [
       "['EventTree;1', 'CellGeo;1']"
      ]
     },
     "execution_count": 6,
     "metadata": {},
     "output_type": "execute_result"
    }
   ],
   "source": [
    "### content and type\n",
    "#f.classnames()  \n",
    "f.keys() #content"
   ]
  },
  {
   "cell_type": "code",
   "execution_count": 7,
   "id": "f2b4e94f-9dbf-47cb-8839-c1d0dfadf35b",
   "metadata": {},
   "outputs": [],
   "source": [
    "### Use the form file['key'] to access an object inside a file.\n",
    "ev_tree =  f['EventTree;1']\n",
    "cell_geo_tree = f['CellGeo;1']"
   ]
  },
  {
   "cell_type": "markdown",
   "id": "0c1b7d5c-e30c-4177-86f5-ae360849372e",
   "metadata": {
    "tags": []
   },
   "source": [
    "## Understanding the input with uproot"
   ]
  },
  {
   "cell_type": "code",
   "execution_count": 8,
   "id": "872e1a43-e4f9-4419-9a32-ecc6d4cda8d2",
   "metadata": {},
   "outputs": [
    {
     "data": {
      "text/plain": [
       "['cell_geo_ID',\n",
       " 'cell_geo_sampling',\n",
       " 'cell_geo_eta',\n",
       " 'cell_geo_phi',\n",
       " 'cell_geo_rPerp',\n",
       " 'cell_geo_deta',\n",
       " 'cell_geo_dphi',\n",
       " 'cell_geo_volume',\n",
       " 'cell_geo_sigma']"
      ]
     },
     "execution_count": 8,
     "metadata": {},
     "output_type": "execute_result"
    }
   ],
   "source": [
    "### Branches\n",
    "#ev_tree.keys()\n",
    "cell_geo_tree.keys()"
   ]
  },
  {
   "cell_type": "code",
   "execution_count": 9,
   "id": "927e6260-6cd3-4acd-b18e-2ba4d94f91cc",
   "metadata": {},
   "outputs": [
    {
     "name": "stdout",
     "output_type": "stream",
     "text": [
      "name                 | typename                 | interpretation                \n",
      "---------------------+--------------------------+-------------------------------\n",
      "cell_geo_ID          | std::vector<uint64_t>    | AsJagged(AsDtype('>u8'), he...\n",
      "cell_geo_sampling    | std::vector<uint16_t>    | AsJagged(AsDtype('>u2'), he...\n",
      "cell_geo_eta         | std::vector<float>       | AsJagged(AsDtype('>f4'), he...\n",
      "cell_geo_phi         | std::vector<float>       | AsJagged(AsDtype('>f4'), he...\n",
      "cell_geo_rPerp       | std::vector<float>       | AsJagged(AsDtype('>f4'), he...\n",
      "cell_geo_deta        | std::vector<float>       | AsJagged(AsDtype('>f4'), he...\n",
      "cell_geo_dphi        | std::vector<float>       | AsJagged(AsDtype('>f4'), he...\n",
      "cell_geo_volume      | std::vector<float>       | AsJagged(AsDtype('>f4'), he...\n",
      "cell_geo_sigma       | std::vector<float>       | AsJagged(AsDtype('>f4'), he...\n"
     ]
    }
   ],
   "source": [
    "cell_geo_tree.show()"
   ]
  },
  {
   "cell_type": "code",
   "execution_count": 10,
   "id": "bca7c208-2aa4-4f65-8b3a-7c070170e897",
   "metadata": {},
   "outputs": [
    {
     "data": {
      "text/plain": [
       "<Array [... 1284492592, 1284493104]] type='1 * var * uint64'>"
      ]
     },
     "execution_count": 10,
     "metadata": {},
     "output_type": "execute_result"
    }
   ],
   "source": [
    "cell_geo_tree.arrays()['cell_geo_ID'] #Connects the event tree with the cell tree"
   ]
  },
  {
   "cell_type": "code",
   "execution_count": 11,
   "id": "8de79ee9-9520-4c55-8632-02972e9926f2",
   "metadata": {},
   "outputs": [
    {
     "data": {
      "text/plain": [
       "entry  subentry\n",
       "0      0           49.457161\n",
       "       1           49.457161\n",
       "       2           49.457161\n",
       "       3           49.457161\n",
       "       4           49.457161\n",
       "                     ...    \n",
       "       187645      20.233513\n",
       "       187646      10.413343\n",
       "       187647      10.957963\n",
       "       187648      12.509910\n",
       "       187649      11.231500\n",
       "Length: 187650, dtype: float32"
      ]
     },
     "execution_count": 11,
     "metadata": {},
     "output_type": "execute_result"
    }
   ],
   "source": [
    "cell_geo_tree[\"cell_geo_sigma\"].array(library=\"pd\") # library=\"np\""
   ]
  },
  {
   "cell_type": "code",
   "execution_count": 12,
   "id": "fb048250-1fc6-4176-b52f-fd1a597ba71b",
   "metadata": {},
   "outputs": [],
   "source": [
    "cluster = ev_tree.arrays([\"cluster_E\",\"cluster_Eta\",\"cluster_Phi\"])"
   ]
  },
  {
   "cell_type": "code",
   "execution_count": 13,
   "id": "c773277f-2749-4077-98e8-ae0e74c3514d",
   "metadata": {},
   "outputs": [
    {
     "data": {
      "text/plain": [
       "<Array [[-0.414, -0.446, ... -0.112, -0.202]] type='20000 * var * float32'>"
      ]
     },
     "execution_count": 13,
     "metadata": {},
     "output_type": "execute_result"
    }
   ],
   "source": [
    "cluster[\"cluster_Eta\"]"
   ]
  },
  {
   "cell_type": "code",
   "execution_count": 14,
   "id": "c2dace4b-e8d5-42ba-b5ee-1f30bc20e49a",
   "metadata": {},
   "outputs": [
    {
     "data": {
      "text/plain": [
       "['cluster_E',\n",
       " 'cluster_E_LCCalib',\n",
       " 'cluster_Pt',\n",
       " 'cluster_Eta',\n",
       " 'cluster_Phi',\n",
       " 'cluster_nCells',\n",
       " 'cluster_ENG_CALIB_TOT',\n",
       " 'cluster_ENG_CALIB_OUT_T',\n",
       " 'cluster_ENG_CALIB_DEAD_TOT',\n",
       " 'cluster_EM_PROBABILITY',\n",
       " 'cluster_HAD_WEIGHT',\n",
       " 'cluster_OOC_WEIGHT',\n",
       " 'cluster_DM_WEIGHT',\n",
       " 'cluster_CENTER_MAG',\n",
       " 'cluster_FIRST_ENG_DENS',\n",
       " 'cluster_CENTER_LAMBDA',\n",
       " 'cluster_ISOLATION',\n",
       " 'cluster_ENERGY_DigiHSTruth',\n",
       " 'cluster_cell_ID',\n",
       " 'cluster_cell_E',\n",
       " 'cluster_hitsTruthIndex',\n",
       " 'cluster_hitsTruthE']"
      ]
     },
     "execution_count": 14,
     "metadata": {},
     "output_type": "execute_result"
    }
   ],
   "source": [
    "## track information & cluster information\n",
    "#ev_tree.keys(filter_name=\"track*\")\n",
    "ev_tree.keys(filter_name=\"*cluster*\")"
   ]
  },
  {
   "cell_type": "code",
   "execution_count": 15,
   "id": "22d8fd4d-c560-4063-a412-96a1966e4516",
   "metadata": {},
   "outputs": [
    {
     "data": {
      "text/plain": [
       "['cluster_cell_ID', 'cluster_cell_E']"
      ]
     },
     "execution_count": 15,
     "metadata": {},
     "output_type": "execute_result"
    }
   ],
   "source": [
    "#cluster_cell_ID ->>> compact ID for geometry lookup     SAME AS  cell_geo_ID in CellGeo tree\n",
    "#cluster_cell_E  ->>> cell energy in GeV\n",
    "ev_tree.keys(filter_name=\"*cluster_cell*\")"
   ]
  },
  {
   "cell_type": "code",
   "execution_count": 16,
   "id": "b06c7128-1b98-4938-a346-81ee5649906c",
   "metadata": {},
   "outputs": [
    {
     "data": {
      "text/plain": [
       "<Array [{trackZ0: []}, ... {trackZ0: []}] type='20000 * {\"trackZ0\": var * float32}'>"
      ]
     },
     "execution_count": 16,
     "metadata": {},
     "output_type": "execute_result"
    }
   ],
   "source": [
    "## The second argument is a cut, or filter on entries. ### trackZ0 is always negative\n",
    "ev_tree.arrays(['trackZ0'],\"trackZ0>0\")"
   ]
  },
  {
   "cell_type": "code",
   "execution_count": 17,
   "id": "3aeed6f5-d84d-432d-bb2d-6122ca4da3af",
   "metadata": {},
   "outputs": [
    {
     "data": {
      "text/plain": [
       "<Array [{chi2DOF: [1.14], ... 0.917]}] type='20000 * {\"chi2DOF\": var * float64}'>"
      ]
     },
     "execution_count": 17,
     "metadata": {},
     "output_type": "execute_result"
    }
   ],
   "source": [
    "ev_tree.arrays(\"chi2DOF\", aliases={\"chi2DOF\": \"trackChiSquared / trackNumberDOF\"})"
   ]
  },
  {
   "cell_type": "markdown",
   "id": "2db6b52f-d7be-4047-8deb-30b13323c4b9",
   "metadata": {
    "tags": []
   },
   "source": [
    "## Cluster information"
   ]
  },
  {
   "cell_type": "code",
   "execution_count": 18,
   "id": "27f9b807-9c8e-4df4-9aba-497495b0bdb0",
   "metadata": {},
   "outputs": [
    {
     "name": "stdout",
     "output_type": "stream",
     "text": [
      "number of events: 20000\n"
     ]
    }
   ],
   "source": [
    "n_events = ev_tree.num_entries\n",
    "print(\"number of events:\", n_events)"
   ]
  },
  {
   "cell_type": "code",
   "execution_count": 19,
   "id": "4f68de62-51a5-4e82-ae31-9702978c9780",
   "metadata": {},
   "outputs": [],
   "source": [
    "cluster_var = ['cluster_EM_PROBABILITY', 'cluster_HAD_WEIGHT', 'cluster_OOC_WEIGHT',\n",
    "               'cluster_DM_WEIGHT', 'cluster_CENTER_MAG', 'cluster_FIRST_ENG_DENS', \n",
    "               'cluster_CENTER_LAMBDA', 'cluster_ISOLATION',  \n",
    "              ]"
   ]
  },
  {
   "cell_type": "code",
   "execution_count": 42,
   "id": "3b584217-8702-4907-9d25-232619e14d52",
   "metadata": {},
   "outputs": [
    {
     "data": {
      "text/plain": [
       "entry  subentry\n",
       "0      0           0.895813\n",
       "       1           0.513963\n",
       "       2           0.897644\n",
       "1      0           0.000337\n",
       "       1           0.213792\n",
       "                     ...   \n",
       "19997  5           0.587252\n",
       "       6           0.468654\n",
       "19999  0           0.000246\n",
       "       1           0.097961\n",
       "       2           0.007718\n",
       "Length: 74452, dtype: float32"
      ]
     },
     "execution_count": 42,
     "metadata": {},
     "output_type": "execute_result"
    }
   ],
   "source": [
    "ev_tree[\"cluster_EM_PROBABILITY\"].array(library=\"pd\") "
   ]
  },
  {
   "cell_type": "code",
   "execution_count": 21,
   "id": "1a5da43f-ecd2-4767-9a51-5242154e7a76",
   "metadata": {},
   "outputs": [],
   "source": [
    "cluster_var_dict_musig = {}"
   ]
  },
  {
   "cell_type": "code",
   "execution_count": 22,
   "id": "31248e15-06b2-483b-9d0d-f581c4831149",
   "metadata": {},
   "outputs": [],
   "source": [
    "for ivar in cluster_var : \n",
    "    var = np.concatenate(ev_tree[ivar].array(library='np'))\n",
    "    cluster_var_dict_musig[ivar] =  {'mean' : var.mean(), 'std' : var.std()}"
   ]
  },
  {
   "cell_type": "code",
   "execution_count": 23,
   "id": "8e1e9ffb-aedb-489a-8020-b1662b0e1d1b",
   "metadata": {},
   "outputs": [
    {
     "data": {
      "text/plain": [
       "{'cluster_EM_PROBABILITY': {'mean': 0.18505172, 'std': 0.2732016},\n",
       " 'cluster_HAD_WEIGHT': {'mean': 1.0895879, 'std': 0.10427206},\n",
       " 'cluster_OOC_WEIGHT': {'mean': 1.4219106, 'std': 0.43727043},\n",
       " 'cluster_DM_WEIGHT': {'mean': 1.1682752, 'std': 0.31482273},\n",
       " 'cluster_CENTER_MAG': {'mean': 3573.3145, 'std': 1125.9248},\n",
       " 'cluster_FIRST_ENG_DENS': {'mean': 1.5478874e-05, 'std': 8.048178e-05},\n",
       " 'cluster_CENTER_LAMBDA': {'mean': 715.20215, 'std': 766.0365},\n",
       " 'cluster_ISOLATION': {'mean': 0.78983563, 'std': 0.21683465}}"
      ]
     },
     "execution_count": 23,
     "metadata": {},
     "output_type": "execute_result"
    }
   ],
   "source": [
    "#### Array with mu and sigma of the clustat variables cluster_var\n",
    "cluster_var_dict_musig"
   ]
  },
  {
   "cell_type": "markdown",
   "id": "01899aef-b331-4f62-9a3e-2d7cfb738922",
   "metadata": {
    "tags": []
   },
   "source": [
    "## Get Cells positions"
   ]
  },
  {
   "cell_type": "markdown",
   "id": "014f8008-2741-421a-93bc-8079744d705c",
   "metadata": {},
   "source": [
    "CellGeo (cell_geo_tree) just have one entry. "
   ]
  },
  {
   "cell_type": "code",
   "execution_count": 24,
   "id": "47135fc9-f40a-40f8-abdf-538b8ba4240b",
   "metadata": {},
   "outputs": [
    {
     "data": {
      "text/plain": [
       "array([array([ 6,  6,  6, ..., 17, 17, 17], dtype=uint16)], dtype=object)"
      ]
     },
     "execution_count": 24,
     "metadata": {},
     "output_type": "execute_result"
    }
   ],
   "source": [
    "cell_geo_tree[\"cell_geo_sampling\"].array(library=\"np\") # sampling layer stored as a short int"
   ]
  },
  {
   "cell_type": "code",
   "execution_count": 25,
   "id": "a4370778-821c-4a6b-a7b1-327faca13413",
   "metadata": {},
   "outputs": [
    {
     "data": {
      "text/plain": [
       "array([array([1697610.  , 1697610.  , 1697610.  , ..., 1241209.5 ,  773987.6 ,\n",
       "               466650.06], dtype=float32)                                     ],\n",
       "      dtype=object)"
      ]
     },
     "execution_count": 25,
     "metadata": {},
     "output_type": "execute_result"
    }
   ],
   "source": [
    "cell_geo_tree[\"cell_geo_volume\"].array(library=\"np\") # 3D volume of cell in mm^3"
   ]
  },
  {
   "cell_type": "code",
   "execution_count": 26,
   "id": "35799a30-0f97-485e-98e4-99de8e2c8b03",
   "metadata": {},
   "outputs": [
    {
     "data": {
      "text/plain": [
       "array([array([49.45716 , 49.45716 , 49.45716 , ..., 10.957963, 12.50991 ,\n",
       "              11.2315  ], dtype=float32)                                 ],\n",
       "      dtype=object)"
      ]
     },
     "execution_count": 26,
     "metadata": {},
     "output_type": "execute_result"
    }
   ],
   "source": [
    "cell_geo_tree[\"cell_geo_sigma\"].array(library=\"np\") #  noise value from noise tool (in MeV)"
   ]
  },
  {
   "cell_type": "markdown",
   "id": "340bc5b3-29e4-4339-9bcc-0d22caf37de5",
   "metadata": {},
   "source": [
    "* ### get_all_cells"
   ]
  },
  {
   "cell_type": "code",
   "execution_count": 27,
   "id": "7d129d54-b8bf-469a-93ba-6c1650de80c8",
   "metadata": {},
   "outputs": [],
   "source": [
    "### Cell position information formatted on numpy arrays \n",
    "rperp = cell_geo_tree['cell_geo_rPerp'].array(library='np')[0]      # cylindrical radius $\\sqrt{ x^2+y^2} \n",
    "cell_eta = cell_geo_tree['cell_geo_eta'].array(library='np')[0]\n",
    "cell_phi = cell_geo_tree['cell_geo_phi'].array(library='np')[0]\n",
    "\n",
    "cell_deta = cell_geo_tree['cell_geo_deta'].array(library='np')[0]      # delta eta and dphi of the cell ?? \n",
    "cell_dphi = cell_geo_tree['cell_geo_dphi'].array(library='np')[0]\n",
    "\n",
    "cell_theta = 2*np.arctan( np.exp(-cell_eta) )"
   ]
  },
  {
   "cell_type": "code",
   "execution_count": 28,
   "id": "2be55762-c58d-4e02-8ba9-4015807c65dd",
   "metadata": {},
   "outputs": [],
   "source": [
    "#### x,y,z cell position\n",
    "cell_x = rperp*np.cos(cell_phi)\n",
    "cell_y = rperp*np.sin(cell_phi)\n",
    "cell_z = rperp/np.tan(cell_theta)\n",
    "\n",
    "cell_positions = np.column_stack([cell_x,cell_y,cell_z])"
   ]
  },
  {
   "cell_type": "markdown",
   "id": "6bff6c9e-56da-4b3f-be65-66633cb163af",
   "metadata": {
    "tags": []
   },
   "source": [
    "Instead of saving in cell_positions the $x,y,z$ coordinates of the cell -> save rapidity $y$, $\\phi$?? \n",
    "\n",
    "OR\n",
    "\n",
    "Match with cell ID to the event tree and then save [energy, rapidity, phi] of the cell"
   ]
  },
  {
   "cell_type": "markdown",
   "id": "bcb2362b-4bd2-47c6-aa26-d5a9814b9f03",
   "metadata": {
    "tags": []
   },
   "source": [
    "Decorrelate angular with energy info ?  $y= \\frac{1}{2}\\ln(\\frac{E+p_z}{E-p_z})$ "
   ]
  },
  {
   "cell_type": "code",
   "execution_count": 29,
   "id": "5fdfaf5a-87a0-4717-8efa-b80bf5076746",
   "metadata": {},
   "outputs": [],
   "source": [
    "cell_geo_ID = cell_geo_tree['cell_geo_ID'].array(library='np')[0]     # to connect with cluster_cell_ID"
   ]
  },
  {
   "cell_type": "code",
   "execution_count": 30,
   "id": "4eaefa6e-65bc-4d39-aaee-8d512c78c479",
   "metadata": {},
   "outputs": [],
   "source": [
    "# Dictionaries with cell ID as key. \n",
    "#the entries can be paired with the zip() function\n",
    "id_to_position = {c_id : pos  for c_id,pos in zip(cell_geo_ID,cell_positions)}\n",
    "id_to_deta     = {c_id : deta for c_id,deta in zip(cell_geo_ID,cell_deta)}\n",
    "id_to_dphi     = {c_id : dphi for c_id,dphi in zip(cell_geo_ID,cell_dphi)}"
   ]
  },
  {
   "cell_type": "code",
   "execution_count": 31,
   "id": "cf222fba-dd3f-42a0-abbd-301e8130f586",
   "metadata": {
    "tags": []
   },
   "outputs": [
    {
     "data": {
      "text/plain": [
       "array([  616.83887 ,    33.279976, -3970.4194  ], dtype=float32)"
      ]
     },
     "execution_count": 31,
     "metadata": {},
     "output_type": "execute_result"
    }
   ],
   "source": [
    "id_to_position[740294656]"
   ]
  },
  {
   "cell_type": "markdown",
   "id": "13116e75-264a-4d62-a71d-90e9b49080db",
   "metadata": {},
   "source": [
    "* ### get_single_event"
   ]
  },
  {
   "cell_type": "code",
   "execution_count": 48,
   "id": "75c1f3e6-b4f0-4228-baa1-4ecf483a9f9f",
   "metadata": {},
   "outputs": [
    {
     "name": "stdout",
     "output_type": "stream",
     "text": [
      "number of events: 20000\n",
      "**FIRST EVENT**\n",
      "Number of clusters:   3\n",
      "Number of cells per cluster:   [53, 54, 40]\n",
      "Number of cells in the first cluster:   53\n",
      "?????Number of Cell ID in the first cluster 38\n",
      "?????Cell Energies in the first cluster 38\n"
     ]
    }
   ],
   "source": [
    "print(\"number of events:\", ev_tree.num_entries )\n",
    "print(\"**FIRST EVENT**\")\n",
    "print(\"Number of clusters:  \", ev_tree['nCluster'].array()[0]) \n",
    "print(\"Number of cells per cluster:  \", ev_tree['cluster_nCells'].array()[0]) \n",
    "print(\"Number of cells in the first cluster:  \", ev_tree['cluster_nCells'].array()[0][0] ) \n",
    "print(\"?????Number of Cell ID in the first cluster\", len(ev_tree['cluster_cell_ID'].array()[0][0]))   ## Selection criteria?\n",
    "print(\"?????Cell Energies in the first cluster\", len(ev_tree['cluster_cell_E'].array()[0][0]))"
   ]
  },
  {
   "cell_type": "code",
   "execution_count": 33,
   "id": "746c3132-5769-45f0-a5aa-eb6f40fa5a11",
   "metadata": {},
   "outputs": [],
   "source": [
    "#Event index:\n",
    "event_idx = 0"
   ]
  },
  {
   "cell_type": "code",
   "execution_count": 34,
   "id": "b674fb53-75b5-478e-b611-3f5a6cafd753",
   "metadata": {},
   "outputs": [
    {
     "data": {
      "text/plain": [
       "0        ((759177244, 759177242, 759177246, 759176732, ...\n",
       "1        ((1141524224, 1141507840, 1141540608, 11415244...\n",
       "2        ((1208519184, 1208502800, 1208535568, 12085194...\n",
       "3        ((776217216, 776217214, 776217218, 776216704, ...\n",
       "4        ((1149584896, 1149568512, 1149601280, 11495846...\n",
       "                               ...                        \n",
       "19995    ((769662458, 769662456, 769662460, 769661946, ...\n",
       "19996    ((767564038, 767564036, 767564040, 767563526, ...\n",
       "19997    ((757249622, 757249620, 757249110, 757250134, ...\n",
       "19998                                                   ()\n",
       "19999    ((1141719040, 1141702656, 1141735424, 11417192...\n",
       "Length: 20000, dtype: object"
      ]
     },
     "execution_count": 34,
     "metadata": {},
     "output_type": "execute_result"
    }
   ],
   "source": [
    "ev_tree[\"cluster_cell_ID\"].array(library=\"pd\")"
   ]
  },
  {
   "cell_type": "code",
   "execution_count": 35,
   "id": "5d1989f9-3b59-4698-9870-107e429a7574",
   "metadata": {},
   "outputs": [
    {
     "data": {
      "text/plain": [
       "<STLVector [[1141524224, 1141507840, 1141540608, ..., 757174864, 757175376, 757175378], ...] at 0x7fbcaa524520>"
      ]
     },
     "execution_count": 35,
     "metadata": {},
     "output_type": "execute_result"
    }
   ],
   "source": [
    "ev_tree[\"cluster_cell_ID\"].array(entry_start=1,entry_stop=2, library=\"np\")[0]   #Second event for numpy"
   ]
  },
  {
   "cell_type": "code",
   "execution_count": 36,
   "id": "8d97cf91-045d-444d-bab0-78a38ec072f9",
   "metadata": {},
   "outputs": [
    {
     "data": {
      "text/plain": [
       "<STLVector [[1141524224, 1141507840, 1141540608, ..., 757174864, 757175376, 757175378], ...] at 0x7fbcb6f40970>"
      ]
     },
     "execution_count": 36,
     "metadata": {},
     "output_type": "execute_result"
    }
   ],
   "source": [
    "ev_tree[\"cluster_cell_ID\"].array(library=\"pd\")[1]                                #Second event for pandas"
   ]
  },
  {
   "cell_type": "code",
   "execution_count": 37,
   "id": "e3b677f2-cf2a-44c5-a2ae-28ed5d7d6af6",
   "metadata": {},
   "outputs": [
    {
     "data": {
      "text/plain": [
       "<STLVector [759177244, 759177242, ..., 759177752, 754983430] at 0x7fbcb6f4a880>"
      ]
     },
     "execution_count": 37,
     "metadata": {},
     "output_type": "execute_result"
    }
   ],
   "source": [
    "ev_tree['cluster_cell_ID'].array(entry_start=event_idx,entry_stop=event_idx+1,library='np')[0][0]   #Fist event for numpy, first cluster"
   ]
  },
  {
   "cell_type": "code",
   "execution_count": 100,
   "id": "9528613a-b694-4e47-abd6-cf00a5f354c8",
   "metadata": {},
   "outputs": [],
   "source": [
    "### For each event: A vector per cluster with each cell value. \n",
    "cluster_cell_ID = ev_tree['cluster_cell_ID'].array(entry_start=event_idx,entry_stop=event_idx+1,library='np')[0]\n",
    "cluster_cell_E = ev_tree['cluster_cell_E'].array(entry_start=event_idx,entry_stop=event_idx+1,library='np')[0]"
   ]
  },
  {
   "cell_type": "code",
   "execution_count": 62,
   "id": "34bde91e-5587-4ac4-8fa3-9151bba0650c",
   "metadata": {},
   "outputs": [
    {
     "data": {
      "text/plain": [
       "array([1643.8203 ,  614.2717 , -742.10706], dtype=float32)"
      ]
     },
     "execution_count": 62,
     "metadata": {},
     "output_type": "execute_result"
    }
   ],
   "source": [
    "id_to_position[759177244]"
   ]
  },
  {
   "cell_type": "code",
   "execution_count": 39,
   "id": "19783662-c56a-44c2-9b14-e8bc83744906",
   "metadata": {},
   "outputs": [
    {
     "data": {
      "text/plain": [
       "3"
      ]
     },
     "execution_count": 39,
     "metadata": {},
     "output_type": "execute_result"
    }
   ],
   "source": [
    "n_clusters = len(cluster_cell_ID)\n",
    "n_clusters"
   ]
  },
  {
   "cell_type": "code",
   "execution_count": 106,
   "id": "0cb7a9de-ee13-4a36-b834-182cbbf8d759",
   "metadata": {},
   "outputs": [
    {
     "name": "stdout",
     "output_type": "stream",
     "text": [
      "--------CLUSTER NUMBER:  0\n",
      "Number of cells=  38\n",
      "* Number of particles = Number of cells=  38\n",
      "* cell_E [0.5656468  0.00999555 0.37462845 0.08905287 0.13298044 0.4048535\n",
      " 0.05181599 0.06520326 0.07921552 0.02094988 0.03186893 0.01994124\n",
      " 0.03106216 0.10201096 0.33802935 0.83388823 0.02306807 0.29424202\n",
      " 0.02199198 0.01301084 0.00604178 0.02602894 0.03408835 0.07578252\n",
      " 0.01392713 0.00503008 0.03000781 0.02797122 0.02698843 0.02797122\n",
      " 0.02602894 0.01802212 0.10201096 0.0701307  0.03106216 0.0189655\n",
      " 0.06092904 0.07578252]\n",
      "* cell_idx [759177244 759177242 759177246 759176732 759177756 759176730 759177754\n",
      " 759176734 759177758 757137414 757138438 757138950 757139462 757139974\n",
      " 757140486 757140998 757140996 757141510 757140484 757141508 757141512\n",
      " 759177240 759176728 759176218 759176216 759176220 757133830 757134342\n",
      " 757134854 759177248 761270302 757139976 757142022 757142534 757143046\n",
      " 757139464 759177752 754983430]\n",
      "* cluster_cell_pos [array([1643.8203 ,  614.2717 , -742.10706], dtype=float32), array([1658.4617,  573.7446, -742.1068], dtype=float32), array([1628.1888,  654.4273, -742.107 ], dtype=float32), array([1644.822  ,  614.6475 , -695.07544], dtype=float32), array([1642.0474 ,  613.6065 , -789.17377], dtype=float32), array([1659.472 ,  574.0957, -695.0755], dtype=float32), array([1656.6729 ,  573.1231 , -789.17365], dtype=float32), array([1629.181  ,  654.82764, -695.07526], dtype=float32), array([1626.4327 ,  653.7188 , -789.17395], dtype=float32), array([1449.3988 ,  521.12476, -632.70844], dtype=float32), array([1449.2639,  521.076 , -643.0797], dtype=float32), array([1449.1965 ,  521.05164, -648.2739 ], dtype=float32), array([1449.1289,  521.0272, -653.4742], dtype=float32), array([1449.0616 ,  521.00287, -658.6803 ], dtype=float32), array([1448.9944 ,  520.9786 , -663.89246], dtype=float32), array([1448.9268 ,  520.95416, -669.11035], dtype=float32), array([1493.2572,  376.4139, -669.1106], dtype=float32), array([1448.8594,  520.9299, -674.3347], dtype=float32), array([1493.3269,  376.4316, -663.8926], dtype=float32), array([1493.188  ,  376.39636, -674.3349 ], dtype=float32), array([1390.5778,  660.4225, -674.3348], dtype=float32), array([1672.1039 ,  532.87036, -742.10675], dtype=float32), array([1673.1227 ,  533.19653, -695.0755 ], dtype=float32), array([1659.7932,  574.2073, -648.1522], dtype=float32), array([1673.4465 ,  533.30023, -648.1523 ], dtype=float32), array([1645.1403 ,  614.76697, -648.1525 ], dtype=float32), array([1449.8457 ,  521.28613, -596.57635], dtype=float32), array([1449.7816 ,  521.263  , -601.72144], dtype=float32), array([1449.7178,  521.2399, -606.8721], dtype=float32), array([1611.5768 ,  694.18726, -742.107  ], dtype=float32), array([1803.2565,  725.0621, -848.8828], dtype=float32), array([1390.7717 ,  660.51495, -658.6805 ], dtype=float32), array([1448.7893 ,  520.90454, -679.56384], dtype=float32), array([1448.7191 ,  520.87915, -684.799  ], dtype=float32), array([1448.6489,  520.8538, -690.0404], dtype=float32), array([1390.8363 ,  660.5457 , -653.47394], dtype=float32), array([1670.3004,  532.2929, -789.174 ], dtype=float32), array([1369.9995,  492.4401, -654.9666], dtype=float32)]\n",
      "* Total sum of cell energy=  4.1802254\n",
      "* ???????Cluster energy=  3.9325354\n",
      "* Cluster true energy=  3.7789025\n"
     ]
    }
   ],
   "source": [
    "## ---- loop over clusters ---- ##\n",
    "for ic in range(n_clusters) : \n",
    "    cell_E = np.array(cluster_cell_E[ic])\n",
    "    cell_idx = np.array(cluster_cell_ID[ic])\n",
    "    cluster_cell_pos = [id_to_position[x] for x in cell_idx]\n",
    "    cluster_cell_deta = [id_to_deta[x] for x in cell_idx]\n",
    "    cluster_cell_dphi = [id_to_dphi[x] for x in cell_idx]\n",
    "    \n",
    "    n_part = len(cluster_cell_pos)\n",
    "    \n",
    "    cluster_energy_truth = ev_tree['cluster_ENG_CALIB_TOT'].array(entry_start=event_idx,entry_stop=event_idx+1,library='np')[0][ic]\n",
    "    \n",
    "    if (ic==0):\n",
    "        print(\"--------CLUSTER NUMBER: \",ic)\n",
    "        print(\"Number of cells= \",len(cell_E))\n",
    "        print(\"* Number of particles = Number of cells= \",len(cluster_cell_pos))\n",
    "        print(\"* cell_E\", cell_E)                                # Energy function?  Normalised to the total energy of the cluster?\n",
    "        print(\"* cell_idx\",cell_idx)\n",
    "        print(\"* cluster_cell_pos\",cluster_cell_pos)             # Angular function?\n",
    "        print(\"* Total sum of cell energy= \", np.sum(cell_E))\n",
    "        print(\"* ???????Cluster energy= \", ev_tree[\"cluster_E\"].array(entry_start=event_idx,entry_stop=event_idx+1,library=\"np\")[0][ic])\n",
    "        print(\"* Cluster true energy= \", ev_tree['cluster_ENG_CALIB_TOT'].array(entry_start=event_idx,entry_stop=event_idx+1,library='np')[0][ic])"
   ]
  },
  {
   "cell_type": "code",
   "execution_count": 84,
   "id": "5a5109c9-a191-45a8-aebc-eb959f3ec739",
   "metadata": {},
   "outputs": [
    {
     "data": {
      "text/plain": [
       "3.9325354"
      ]
     },
     "execution_count": 84,
     "metadata": {},
     "output_type": "execute_result"
    }
   ],
   "source": [
    "ev_tree[\"cluster_E\"].array(entry_start=event_idx,entry_stop=event_idx+1,library=\"np\")[0][0]"
   ]
  },
  {
   "cell_type": "code",
   "execution_count": 89,
   "id": "def66b1e-33a6-438c-8648-0d8d82047f82",
   "metadata": {},
   "outputs": [
    {
     "data": {
      "text/plain": [
       "4.1802254"
      ]
     },
     "execution_count": 89,
     "metadata": {},
     "output_type": "execute_result"
    }
   ],
   "source": [
    "cluster_cell_energy_0= ev_tree['cluster_cell_E'].array(entry_start=event_idx,entry_stop=event_idx+1,library='np')[0][0]\n",
    "np.sum(cluster_cell_energy_0)"
   ]
  },
  {
   "cell_type": "code",
   "execution_count": 103,
   "id": "79990457-7d23-4374-9acb-d7333f7d4208",
   "metadata": {},
   "outputs": [
    {
     "data": {
      "text/plain": [
       "31"
      ]
     },
     "execution_count": 103,
     "metadata": {},
     "output_type": "execute_result"
    }
   ],
   "source": [
    "len(cell_idx)"
   ]
  },
  {
   "cell_type": "code",
   "execution_count": 72,
   "id": "e4ca40f2-0cd0-49b6-a5bb-736ce36003b7",
   "metadata": {},
   "outputs": [
    {
     "name": "stdout",
     "output_type": "stream",
     "text": [
      "?????Cell Energies in the last cluster 31\n"
     ]
    }
   ],
   "source": [
    "print(\"?????Cell Energies in the last cluster\", len(ev_tree['cluster_cell_E'].array()[0][2]))"
   ]
  },
  {
   "cell_type": "code",
   "execution_count": null,
   "id": "46e4ff77-dcac-4d6f-b53c-56b9f4f755ce",
   "metadata": {},
   "outputs": [],
   "source": []
  }
 ],
 "metadata": {
  "kernelspec": {
   "display_name": "Python 3",
   "language": "python",
   "name": "python3"
  },
  "language_info": {
   "codemirror_mode": {
    "name": "ipython",
    "version": 3
   },
   "file_extension": ".py",
   "mimetype": "text/x-python",
   "name": "python",
   "nbconvert_exporter": "python",
   "pygments_lexer": "ipython3",
   "version": "3.8.5"
  }
 },
 "nbformat": 4,
 "nbformat_minor": 5
}
