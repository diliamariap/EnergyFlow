{
 "cells": [
  {
   "cell_type": "markdown",
   "id": "8b76022e-cfac-438c-b79a-3341245f48b0",
   "metadata": {},
   "source": [
    "# Energy Flow Network (EFN)"
   ]
  },
  {
   "cell_type": "markdown",
   "id": "dd4ee7ee-5743-4708-a1b4-618edee885d5",
   "metadata": {},
   "source": [
    "Documentation:[1810.05165](https://arxiv.org/abs/1810.05165)\n",
    "The [`EFN`](https://energyflow.network/docs/archs/#efn) class is used to construct the network architecture."
   ]
  },
  {
   "cell_type": "code",
   "execution_count": 1,
   "id": "f773c03a-13b6-49c2-95f1-f1189ff241f7",
   "metadata": {},
   "outputs": [],
   "source": [
    "# standard library imports\n",
    "from __future__ import absolute_import, division, print_function\n",
    "# standard numerical library imports\n",
    "import numpy as np"
   ]
  },
  {
   "cell_type": "markdown",
   "id": "f1d8a10d-ef8b-4295-a4c1-e12f52f559c0",
   "metadata": {},
   "source": [
    "## Dataset: [Quark and Gluon Jets](https://github.com/pkomiske/EnergyFlow/blob/master/energyflow/datasets/qg_jets.py)\n",
    "- Pythia 8.226 quark (uds) and gluon jets.\n",
    "- Pythia 8.235 quark (udscb) and gluon jets.\n",
    "- Herwig 7.1.4 quark (uds) and gluon jets.\n",
    "- Herwig 7.1.4 quark (udscb) and gluon jets\n",
    "\n",
    "The particles are given as `(pt,y,phi,pid)` values, where `pid` is the [PDG id](http://pdg.lbl.gov/2018/reviews/rpp2018-rev-monte-carlo-numbering.pdf)\n",
    "\n",
    "The samples are generated from $q\\bar q\\to Z(\\to\\nu\\bar\\nu)+g$ and\n",
    "$qg\\to Z(\\to\\nu\\bar\\nu)+(uds[cb])$.\n",
    "Particles are clustered into $R=0.4$\n",
    "anti-$k_T$ jets with transverse momentum\n",
    "$p_T\\in[500,550]$ GeV and rapidity $|y|<1.7$ are kept. "
   ]
  },
  {
   "cell_type": "code",
   "execution_count": 2,
   "id": "5d6f600e-adeb-448a-89b4-83803410b6d5",
   "metadata": {},
   "outputs": [],
   "source": [
    "# energyflow imports\n",
    "import energyflow as ef\n",
    "from energyflow.archs import EFN\n",
    "from energyflow.datasets import qg_jets\n",
    "from energyflow.utils import data_split, to_categorical"
   ]
  },
  {
   "cell_type": "markdown",
   "id": "f4255fe6-2be5-4793-9168-60f3366225bb",
   "metadata": {},
   "source": [
    "[Classification metric from sklearn](https://scikit-learn.org/stable/modules/classes.html?highlight=metrics#module-sklearn.metrics)"
   ]
  },
  {
   "cell_type": "code",
   "execution_count": 3,
   "id": "118fdec2-7de3-4b9a-a9e2-de378c012f41",
   "metadata": {},
   "outputs": [],
   "source": [
    "from sklearn.metrics import roc_auc_score, roc_curve\n",
    "import matplotlib.pyplot as plt\n",
    "import tensorflow as tf"
   ]
  },
  {
   "cell_type": "code",
   "execution_count": 6,
   "id": "0b6378dc-af87-4ad1-af6e-2a860d1b4690",
   "metadata": {},
   "outputs": [],
   "source": [
    "def foo():\n",
    "    \"\"\"lol\"\"\"\n",
    "    pass\n",
    "bar = foo\n",
    "bar._doc_ = ':)'"
   ]
  },
  {
   "cell_type": "code",
   "execution_count": 7,
   "id": "ee8bc44a-faf1-48d0-a271-54b8af337ca4",
   "metadata": {},
   "outputs": [
    {
     "data": {
      "text/plain": [
       "':)'"
      ]
     },
     "execution_count": 7,
     "metadata": {},
     "output_type": "execute_result"
    }
   ],
   "source": [
    "foo._doc_"
   ]
  },
  {
   "cell_type": "markdown",
   "id": "0ee565b5-1366-402d-a64a-024c4ca52f94",
   "metadata": {},
   "source": [
    "## Network settings"
   ]
  },
  {
   "cell_type": "markdown",
   "id": "72efc95f-475b-48ca-8c39-35e5bb99e1e3",
   "metadata": {},
   "source": [
    "From [1810.05165](https://arxiv.org/abs/1810.05165):\n",
    "\"For all quark/gluon models, one million jets were used for training, 200k for validation\n",
    "(except for the EFPs, which did not use validation), and 200k for testing.\"\n"
   ]
  },
  {
   "cell_type": "code",
   "execution_count": 9,
   "id": "c8853353-8498-47a5-9f7a-52960f029a2f",
   "metadata": {},
   "outputs": [],
   "source": [
    "# data controls, can go up to 2000000 total for full dataset\n",
    "# train, val, test = 1000000, 200000, 200000\n",
    "train, val, test = 75000, 10000, 15000"
   ]
  },
  {
   "cell_type": "code",
   "execution_count": 10,
   "id": "5829c078-35f5-4462-99a6-531e5298eac3",
   "metadata": {},
   "outputs": [
    {
     "name": "stdout",
     "output_type": "stream",
     "text": [
      "Number of total data used: 100000\n"
     ]
    }
   ],
   "source": [
    "print(\"Number of total data used:\",train + val + test)"
   ]
  },
  {
   "cell_type": "markdown",
   "id": "f86f92e1-dbf2-4cda-a7b0-d722420e0657",
   "metadata": {},
   "source": [
    "* Phi_sizes : The sizes of the dense layers in the per-particle frontend module $\\Phi$. The last element will be the number of latent observables that the model defines. Larger latent space dimensions correspond roughly to higher resolution images.\n",
    "* F_sizes : The sizes of the dense layers in the backend module $F$."
   ]
  },
  {
   "cell_type": "code",
   "execution_count": 11,
   "id": "ecff740e-2cf2-41c9-a236-d048f75aabe0",
   "metadata": {},
   "outputs": [],
   "source": [
    "# network architecture parameters\n",
    "Phi_sizes, F_sizes = (100, 100, 128), (100, 100, 100)\n",
    "# Phi_sizes, F_sizes = (100, 100, 256), (100, 100, 100)"
   ]
  },
  {
   "cell_type": "code",
   "execution_count": 48,
   "id": "a982f359-7f1d-452f-90f9-6cfa804ca61f",
   "metadata": {},
   "outputs": [],
   "source": [
    "# network training parameters\n",
    "num_epoch = 20 #54 in the paper for EFN\n",
    "batch_size = 128 #500"
   ]
  },
  {
   "cell_type": "code",
   "execution_count": 15,
   "id": "f85d2ca3-95c2-4bcd-afed-7f096907cbe1",
   "metadata": {},
   "outputs": [],
   "source": [
    "## let's just take one gpu:\n",
    "import os\n",
    "os.environ['CUDA_VISIBLE_DEVICES'] = \"1\"\n",
    "os.environ['TF_FORCE_GPU_ALLOW_GROWTH'] = 'true'"
   ]
  },
  {
   "cell_type": "markdown",
   "id": "a7ede9fd-e27c-497e-a3b9-31058ed7dc0b",
   "metadata": {},
   "source": [
    "## Load dataset"
   ]
  },
  {
   "cell_type": "markdown",
   "id": "b4f1ba29-073e-47d9-9ca4-7a14dedd484b",
   "metadata": {},
   "source": [
    "Each dataset consists of two components:\n",
    "- `X` : a three-dimensional numpy array of the jets with shape \n",
    "`(num_data,max_num_particles,4)`.\n",
    "- `y` : a numpy array of quark/gluon jet labels (quark=`1` and gluon=`0`)."
   ]
  },
  {
   "cell_type": "code",
   "execution_count": 16,
   "id": "89f754fe-aa41-4072-ab67-a6f823333741",
   "metadata": {},
   "outputs": [],
   "source": [
    "# load data\n",
    "\n",
    "#jets are padded with zero-particles in order to make a contiguous array.\n",
    "# PDG id taken out\n",
    "#X, y = qg_jets.load(train + val + test, pad=False, ncol=3)\n",
    "\n",
    "X, y = qg_jets.load(train + val + test)"
   ]
  },
  {
   "cell_type": "code",
   "execution_count": 18,
   "id": "575b2025-8544-4ffc-b3fb-510c49b35ee8",
   "metadata": {},
   "outputs": [
    {
     "name": "stdout",
     "output_type": "stream",
     "text": [
      "Total number of events?:  100000\n",
      "Number of jets in the event 6:  139\n",
      "pt,y,phi of the jet 0 in the event 6: [ 3.75542939e+01 -7.33788160e-01  5.46960605e+00 -2.11200000e+03]\n"
     ]
    }
   ],
   "source": [
    "print(\"Total number of events?: \",len(X))\n",
    "print(\"Number of jets in the event 6: \", len(X[6]))\n",
    "print(\"pt,y,phi of the jet 0 in the event 6:\", (X[6][14]))"
   ]
  },
  {
   "cell_type": "code",
   "execution_count": 25,
   "id": "39b333c3-ccf6-417c-8591-96af77551519",
   "metadata": {},
   "outputs": [],
   "source": [
    "# ignore pid information \n",
    "X = X[:,:,:3]"
   ]
  },
  {
   "cell_type": "code",
   "execution_count": 21,
   "id": "e8d2b90f-8e04-458e-904b-e29981304c3d",
   "metadata": {},
   "outputs": [],
   "source": [
    "# convert labels to categorical\n",
    "Y = to_categorical(y, num_classes=2)"
   ]
  },
  {
   "cell_type": "code",
   "execution_count": 22,
   "id": "d0bb4f13-38e4-43b0-b644-ee9f1a9a9e81",
   "metadata": {},
   "outputs": [
    {
     "name": "stdout",
     "output_type": "stream",
     "text": [
      "this is the initial y with 1(quark) and 0(gluon): [1. 1. 1. ... 1. 0. 0.]\n",
      "this is the converted to categorical Y : [[0. 1.]\n",
      " [0. 1.]\n",
      " [0. 1.]\n",
      " ...\n",
      " [0. 1.]\n",
      " [1. 0.]\n",
      " [1. 0.]]\n"
     ]
    }
   ],
   "source": [
    "print(\"this is the initial y with 1(quark) and 0(gluon):\", y)\n",
    "print(\"this is the converted to categorical Y :\", Y)"
   ]
  },
  {
   "cell_type": "code",
   "execution_count": 26,
   "id": "7c036d85-8021-4c9a-aff7-2eccf5a40026",
   "metadata": {},
   "outputs": [],
   "source": [
    "#####Trying to undestand 'to_categorical' function\n",
    "y_ = np.asarray(y, dtype=int) #transform entries in int\n",
    "n_=y_.shape[0] #100000\n",
    "\n",
    "categorical = np.zeros((n_, 2)) #100000x2 full of zeros\n",
    "categorical[np.arange(n_), y_] = 1 #1 in the second entry when y is 1, otherwise 1 in the first"
   ]
  },
  {
   "cell_type": "code",
   "execution_count": 33,
   "id": "8f6d560a-a8f3-4c69-a1ef-2d2e53d33377",
   "metadata": {},
   "outputs": [
    {
     "name": "stdout",
     "output_type": "stream",
     "text": [
      "theangularpart=> x[:,1:3] [[112 113]\n",
      " [122 123]\n",
      " [132 133]\n",
      " [142 143]]\n",
      "thepTpart=> x[:,0] [111 121 131 141]\n",
      "theangularpart=> x[:,1:3] [[212 213]\n",
      " [222 223]\n",
      " [232 233]\n",
      " [242 243]]\n",
      "thepTpart=> x[:,0] [211 221 231 241]\n"
     ]
    }
   ],
   "source": [
    "####understanding arrays\n",
    "myarray= ([[[111,112,113],[121,122,123],[131,132,133],[141,142,143]],\n",
    "         [[211,212,213],[221,222,223],[231,232,233],[241,242,243]]])\n",
    "myarray_ = np.asarray(myarray, dtype=int) #transform entries in int\n",
    "for x in myarray_:\n",
    "    theangularpart = x[:,1:3]\n",
    "    thepTpart=x[:,0]\n",
    "    print(\"theangularpart=> x[:,1:3]\",theangularpart)\n",
    "    print(\"thepTpart=> x[:,0]\",thepTpart)"
   ]
  },
  {
   "cell_type": "code",
   "execution_count": 40,
   "id": "d23a0071-f0a3-45a8-ac9c-c8f30879d657",
   "metadata": {},
   "outputs": [],
   "source": [
    "## preprocess by centering jets and normalizing pts\n",
    "#for x in X:\n",
    "#    yphi_avg = np.average(x[:,1:3], weights=x[:,0], axis=0)\n",
    "#    x[:,1:3] -= yphi_avg \n",
    "#    x[:,0] /= x[:,0].sum()\n",
    "\n",
    "#Some pT are zero! Normalisation diverges"
   ]
  },
  {
   "cell_type": "code",
   "execution_count": 41,
   "id": "2bb92a64-b6f5-4df9-a9a3-69acc68906aa",
   "metadata": {},
   "outputs": [],
   "source": [
    "# preprocess by centering jets and normalizing pts\n",
    "for x in X:\n",
    "    mask = x[:,0] > 0\n",
    "    yphi_avg = np.average(x[mask,1:3], weights=x[mask,0], axis=0)\n",
    "    x[mask,1:3] -= yphi_avg\n",
    "    x[mask,0] /= x[:,0].sum()"
   ]
  },
  {
   "cell_type": "code",
   "execution_count": 42,
   "id": "c03b2e2a-e3f9-4805-bfaa-cc3beb86bbb5",
   "metadata": {},
   "outputs": [],
   "source": [
    "## do train/val/test split \n",
    "#(z_train, z_val, z_test, \n",
    "# p_train, p_val, p_test,\n",
    "# Y_train, Y_val, Y_test) = data_split(np.asarray([x[:,0] for x in X], dtype='O'),\n",
    "#                                      np.asarray([x[:,1:3] for x in X], dtype='O'),\n",
    "#                                      Y, val=val, test=test)\n",
    "#X_train, X_val, X_test = data_split(X, val=val, test=test) "
   ]
  },
  {
   "cell_type": "code",
   "execution_count": 43,
   "id": "33ae2fe1-7e98-4697-b8b8-c9d3d334bb5f",
   "metadata": {},
   "outputs": [],
   "source": [
    "# do train/val/test split \n",
    "(z_train, z_val, z_test, \n",
    " p_train, p_val, p_test,\n",
    " Y_train, Y_val, Y_test) = data_split(X[:,:,0], X[:,:,1:], Y, val=val, test=test)"
   ]
  },
  {
   "cell_type": "markdown",
   "id": "b0a278de-6c76-43d4-8074-694243016e43",
   "metadata": {},
   "source": [
    "## Network"
   ]
  },
  {
   "cell_type": "code",
   "execution_count": 44,
   "id": "d063b35b-403e-41a3-ba5c-61c7b4a060ba",
   "metadata": {
    "tags": []
   },
   "outputs": [
    {
     "name": "stdout",
     "output_type": "stream",
     "text": [
      "Model: \"model\"\n",
      "__________________________________________________________________________________________________\n",
      "Layer (type)                    Output Shape         Param #     Connected to                     \n",
      "==================================================================================================\n",
      "phats_input (InputLayer)        [(None, None, 2)]    0                                            \n",
      "__________________________________________________________________________________________________\n",
      "tdist_0 (TimeDistributed)       (None, None, 100)    300         phats_input[0][0]                \n",
      "__________________________________________________________________________________________________\n",
      "activation (Activation)         (None, None, 100)    0           tdist_0[0][0]                    \n",
      "__________________________________________________________________________________________________\n",
      "tdist_1 (TimeDistributed)       (None, None, 100)    10100       activation[0][0]                 \n",
      "__________________________________________________________________________________________________\n",
      "activation_1 (Activation)       (None, None, 100)    0           tdist_1[0][0]                    \n",
      "__________________________________________________________________________________________________\n",
      "zs_input (InputLayer)           [(None, None)]       0                                            \n",
      "__________________________________________________________________________________________________\n",
      "tdist_2 (TimeDistributed)       (None, None, 128)    12928       activation_1[0][0]               \n",
      "__________________________________________________________________________________________________\n",
      "mask (Lambda)                   (None, None)         0           zs_input[0][0]                   \n",
      "__________________________________________________________________________________________________\n",
      "activation_2 (Activation)       (None, None, 128)    0           tdist_2[0][0]                    \n",
      "__________________________________________________________________________________________________\n",
      "sum (Dot)                       (None, 128)          0           mask[0][0]                       \n",
      "                                                                 activation_2[0][0]               \n",
      "__________________________________________________________________________________________________\n",
      "dense_0 (Dense)                 (None, 100)          12900       sum[0][0]                        \n",
      "__________________________________________________________________________________________________\n",
      "activation_3 (Activation)       (None, 100)          0           dense_0[0][0]                    \n",
      "__________________________________________________________________________________________________\n",
      "dense_1 (Dense)                 (None, 100)          10100       activation_3[0][0]               \n",
      "__________________________________________________________________________________________________\n",
      "activation_4 (Activation)       (None, 100)          0           dense_1[0][0]                    \n",
      "__________________________________________________________________________________________________\n",
      "dense_2 (Dense)                 (None, 100)          10100       activation_4[0][0]               \n",
      "__________________________________________________________________________________________________\n",
      "activation_5 (Activation)       (None, 100)          0           dense_2[0][0]                    \n",
      "__________________________________________________________________________________________________\n",
      "output (Dense)                  (None, 2)            202         activation_5[0][0]               \n",
      "__________________________________________________________________________________________________\n",
      "activation_6 (Activation)       (None, 2)            0           output[0][0]                     \n",
      "==================================================================================================\n",
      "Total params: 56,630\n",
      "Trainable params: 56,630\n",
      "Non-trainable params: 0\n",
      "__________________________________________________________________________________________________\n"
     ]
    }
   ],
   "source": [
    "# build architecture\n",
    "efn = EFN(input_dim=2, Phi_sizes=Phi_sizes, F_sizes=F_sizes)"
   ]
  },
  {
   "cell_type": "code",
   "execution_count": 49,
   "id": "fca323c1-c00d-47be-82ce-70dad6d82f1d",
   "metadata": {},
   "outputs": [
    {
     "name": "stdout",
     "output_type": "stream",
     "text": [
      "Epoch 1/20\n",
      "586/586 [==============================] - 3s 5ms/step - loss: 0.4881 - acc: 0.7686 - val_loss: 0.4922 - val_acc: 0.7692\n",
      "Epoch 2/20\n",
      "586/586 [==============================] - 3s 5ms/step - loss: 0.4850 - acc: 0.7728 - val_loss: 0.4794 - val_acc: 0.7743\n",
      "Epoch 3/20\n",
      "586/586 [==============================] - 3s 5ms/step - loss: 0.4821 - acc: 0.7739 - val_loss: 0.4768 - val_acc: 0.7785\n",
      "Epoch 4/20\n",
      "586/586 [==============================] - 3s 5ms/step - loss: 0.4791 - acc: 0.7755 - val_loss: 0.4766 - val_acc: 0.7775\n",
      "Epoch 5/20\n",
      "586/586 [==============================] - 3s 5ms/step - loss: 0.4768 - acc: 0.7775 - val_loss: 0.4732 - val_acc: 0.7804\n",
      "Epoch 6/20\n",
      "586/586 [==============================] - 3s 5ms/step - loss: 0.4741 - acc: 0.7794 - val_loss: 0.4822 - val_acc: 0.7770\n",
      "Epoch 7/20\n",
      "586/586 [==============================] - 3s 4ms/step - loss: 0.4716 - acc: 0.7795 - val_loss: 0.4655 - val_acc: 0.7834\n",
      "Epoch 8/20\n",
      "586/586 [==============================] - 3s 4ms/step - loss: 0.4691 - acc: 0.7821 - val_loss: 0.4644 - val_acc: 0.7870\n",
      "Epoch 9/20\n",
      "586/586 [==============================] - 3s 4ms/step - loss: 0.4676 - acc: 0.7840 - val_loss: 0.4659 - val_acc: 0.7833\n",
      "Epoch 10/20\n",
      "586/586 [==============================] - 3s 5ms/step - loss: 0.4654 - acc: 0.7858 - val_loss: 0.4602 - val_acc: 0.7906\n",
      "Epoch 11/20\n",
      "586/586 [==============================] - 3s 5ms/step - loss: 0.4643 - acc: 0.7852 - val_loss: 0.4623 - val_acc: 0.7869\n",
      "Epoch 12/20\n",
      "586/586 [==============================] - 3s 4ms/step - loss: 0.4630 - acc: 0.7866 - val_loss: 0.4561 - val_acc: 0.7904\n",
      "Epoch 13/20\n",
      "586/586 [==============================] - 3s 4ms/step - loss: 0.4616 - acc: 0.7879 - val_loss: 0.4558 - val_acc: 0.7908\n",
      "Epoch 14/20\n",
      "586/586 [==============================] - 3s 5ms/step - loss: 0.4590 - acc: 0.7885 - val_loss: 0.4554 - val_acc: 0.7931\n",
      "Epoch 15/20\n",
      "586/586 [==============================] - 3s 4ms/step - loss: 0.4578 - acc: 0.7903 - val_loss: 0.4556 - val_acc: 0.7921\n",
      "Epoch 16/20\n",
      "586/586 [==============================] - 3s 4ms/step - loss: 0.4569 - acc: 0.7898 - val_loss: 0.4533 - val_acc: 0.7952\n",
      "Epoch 17/20\n",
      "586/586 [==============================] - 2s 4ms/step - loss: 0.4565 - acc: 0.7904 - val_loss: 0.4551 - val_acc: 0.7941\n",
      "Epoch 18/20\n",
      "586/586 [==============================] - 2s 4ms/step - loss: 0.4542 - acc: 0.7926 - val_loss: 0.4547 - val_acc: 0.7934\n",
      "Epoch 19/20\n",
      "586/586 [==============================] - 3s 4ms/step - loss: 0.4534 - acc: 0.7933 - val_loss: 0.4557 - val_acc: 0.7894\n",
      "Epoch 20/20\n",
      "586/586 [==============================] - 3s 4ms/step - loss: 0.4525 - acc: 0.7929 - val_loss: 0.4566 - val_acc: 0.7914\n"
     ]
    },
    {
     "data": {
      "text/plain": [
       "<tensorflow.python.keras.callbacks.History at 0x7f38a33e01f0>"
      ]
     },
     "execution_count": 49,
     "metadata": {},
     "output_type": "execute_result"
    }
   ],
   "source": [
    "# train model\n",
    "efn.fit([z_train, p_train], Y_train,\n",
    "        epochs=num_epoch,\n",
    "        batch_size=batch_size,\n",
    "        validation_data=([z_val, p_val], Y_val),\n",
    "        verbose=1)"
   ]
  },
  {
   "cell_type": "code",
   "execution_count": 50,
   "id": "f811872e-a062-4e6a-8b2e-2adebf7dd9c8",
   "metadata": {},
   "outputs": [],
   "source": [
    "# get predictions on test data\n",
    "preds = efn.predict([z_test, p_test], batch_size=1000)"
   ]
  },
  {
   "cell_type": "markdown",
   "id": "03f66d54-a0cf-4155-b03c-8c83db19f665",
   "metadata": {},
   "source": [
    "## ROC CURVE"
   ]
  },
  {
   "cell_type": "code",
   "execution_count": 51,
   "id": "793775af-969e-4557-8d71-dcf45f6058c6",
   "metadata": {},
   "outputs": [],
   "source": [
    "# get ROC curve\n",
    "efn_fp, efn_tp, threshs = roc_curve(Y_test[:,1], preds[:,1])"
   ]
  },
  {
   "cell_type": "code",
   "execution_count": 52,
   "id": "d98a7978-8610-40ef-9f63-6bee054857dc",
   "metadata": {},
   "outputs": [
    {
     "name": "stdout",
     "output_type": "stream",
     "text": [
      "\n",
      "EFN AUC: 0.8629751441682685\n",
      "\n"
     ]
    }
   ],
   "source": [
    "# get area under the ROC curve\n",
    "auc = roc_auc_score(Y_test[:,1], preds[:,1])\n",
    "print()\n",
    "print('EFN AUC:', auc)\n",
    "print()"
   ]
  },
  {
   "cell_type": "code",
   "execution_count": 60,
   "id": "59dff289-d448-45ae-866d-d983d6fcdab6",
   "metadata": {},
   "outputs": [
    {
     "data": {
      "image/png": "[encoded data removed]",
      "text/plain": [
       "<Figure size 576x288 with 2 Axes>"
      ]
     },
     "metadata": {
      "needs_background": "light"
     },
     "output_type": "display_data"
    }
   ],
   "source": [
    "# some nicer plot settings \n",
    "plt.rcParams['font.family'] = 'serif'\n",
    "plt.rcParams['figure.autolayout'] = True\n",
    "\n",
    "fig, axes = plt.subplots(1, 2, figsize=(8,4))\n",
    "\n",
    "######################### ROC Curve Plot #########################\n",
    "\n",
    "# get multiplicity and mass for comparison\n",
    "masses = np.asarray([ef.ms_from_p4s(ef.p4s_from_ptyphims(x).sum(axis=0)) for x in X])\n",
    "mults = np.asarray([np.count_nonzero(x[:,0]) for x in X])\n",
    "mass_fp, mass_tp, threshs = roc_curve(Y[:,1], -masses)\n",
    "mult_fp, mult_tp, threshs = roc_curve(Y[:,1], -mults)\n",
    "\n",
    "# plot the ROC curves\n",
    "axes[0].plot(efn_tp, 1-efn_fp, '-', color='black', label='EFN')\n",
    "axes[0].plot(mass_tp, 1-mass_fp, '-', color='blue', label='Jet Mass')\n",
    "axes[0].plot(mult_tp, 1-mult_fp, '-', color='red', label='Multiplicity')\n",
    "\n",
    "# axes labels\n",
    "axes[0].set_xlabel('Quark Jet Efficiency')\n",
    "axes[0].set_ylabel('Gluon Jet Rejection')\n",
    "\n",
    "# axes limits\n",
    "axes[0].set_xlim(0, 1)\n",
    "axes[0].set_ylim(0, 1)\n",
    "\n",
    "# make legend and show plot\n",
    "axes[0].legend(loc='lower left', frameon=False)\n",
    "\n",
    "######################### Filter Plot #########################\n",
    "\n",
    "# plot settings\n",
    "R, n = 0.4, 100\n",
    "colors = ['Reds', 'Oranges', 'Greens', 'Blues', 'Purples', 'Greys']\n",
    "grads = np.linspace(0.45, 0.55, 4)\n",
    "\n",
    "# evaluate filters\n",
    "X, Y, Z = efn.eval_filters(R, n=n)\n",
    "\n",
    "# plot filters\n",
    "for i,z in enumerate(Z):\n",
    "    axes[1].contourf(X, Y, z/np.max(z), grads, cmap=colors[i%len(colors)])\n",
    "\n",
    "axes[1].set_xticks(np.linspace(-R, R, 5))\n",
    "axes[1].set_yticks(np.linspace(-R, R, 5))\n",
    "axes[1].set_xticklabels(['-R', '-R/2', '0', 'R/2', 'R'])\n",
    "axes[1].set_yticklabels(['-R', '-R/2', '0', 'R/2', 'R'])\n",
    "axes[1].set_xlabel('Translated Rapidity y')\n",
    "axes[1].set_ylabel('Translated Azimuthal Angle phi')\n",
    "axes[1].set_title('Energy Flow Network Latent Space', fontdict={'fontsize': 10})\n",
    "\n",
    "plt.show()"
   ]
  },
  {
   "cell_type": "code",
   "execution_count": 57,
   "id": "4b971ae9-e605-4b77-ac9a-9924591bebb4",
   "metadata": {},
   "outputs": [
    {
     "data": {
      "text/plain": [
       "<matplotlib.legend.Legend at 0x7f36ce7c9dc0>"
      ]
     },
     "execution_count": 57,
     "metadata": {},
     "output_type": "execute_result"
    }
   ],
   "source": []
  },
  {
   "cell_type": "code",
   "execution_count": null,
   "id": "d2dbca18-b38c-4e8d-8262-1b823396ef3e",
   "metadata": {},
   "outputs": [],
   "source": []
  }
 ],
 "metadata": {
  "kernelspec": {
   "display_name": "Python 3",
   "language": "python",
   "name": "python3"
  },
  "language_info": {
   "codemirror_mode": {
    "name": "ipython",
    "version": 3
   },
   "file_extension": ".py",
   "mimetype": "text/x-python",
   "name": "python",
   "nbconvert_exporter": "python",
   "pygments_lexer": "ipython3",
   "version": "3.8.5"
  }
 },
 "nbformat": 4,
 "nbformat_minor": 5
}
